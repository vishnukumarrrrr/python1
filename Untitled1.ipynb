{
 "cells": [
  {
   "cell_type": "code",
   "execution_count": 1,
   "id": "51494090",
   "metadata": {},
   "outputs": [
    {
     "name": "stdout",
     "output_type": "stream",
     "text": [
      "<class 'set'>\n",
      "True\n"
     ]
    }
   ],
   "source": [
    "a = {1,2,3,4}\n",
    "print(type(a))\n",
    "print(isinstance(a,set))"
   ]
  },
  {
   "cell_type": "code",
   "execution_count": 1,
   "id": "48523886",
   "metadata": {},
   "outputs": [
    {
     "name": "stdout",
     "output_type": "stream",
     "text": [
      "{1, 2, 3, 4, 9, 10}\n"
     ]
    }
   ],
   "source": [
    "a = {1,2,3,4,10,9}\n",
    "print(a)"
   ]
  },
  {
   "cell_type": "code",
   "execution_count": 11,
   "id": "1e301e81",
   "metadata": {},
   "outputs": [
    {
     "name": "stdout",
     "output_type": "stream",
     "text": [
      "['one', 'two']\n"
     ]
    }
   ],
   "source": [
    "a = ['one','two','one','two']\n",
    "b = list(set(a)) # this is use for change the data type\n",
    "print(b)#this used to eliminate the dupllicate"
   ]
  },
  {
   "cell_type": "code",
   "execution_count": 5,
   "id": "b7a859d2",
   "metadata": {},
   "outputs": [
    {
     "name": "stdout",
     "output_type": "stream",
     "text": [
      "['one', 'two']\n"
     ]
    }
   ],
   "source": [
    "print(b)"
   ]
  },
  {
   "cell_type": "code",
   "execution_count": 1,
   "id": "6892b141",
   "metadata": {},
   "outputs": [
    {
     "ename": "SyntaxError",
     "evalue": "invalid syntax (2035757161.py, line 3)",
     "output_type": "error",
     "traceback": [
      "\u001b[1;36m  File \u001b[1;32m\"C:\\Users\\ELCOT\\AppData\\Local\\Temp\\ipykernel_9468\\2035757161.py\"\u001b[1;36m, line \u001b[1;32m3\u001b[0m\n\u001b[1;33m    print(type(a))\u001b[0m\n\u001b[1;37m    ^\u001b[0m\n\u001b[1;31mSyntaxError\u001b[0m\u001b[1;31m:\u001b[0m invalid syntax\n"
     ]
    }
   ],
   "source": [
    "a = {'one','two','three'}\n",
    "print(a.index('one')\n",
    "print(type(a))"
   ]
  },
  {
   "cell_type": "code",
   "execution_count": 12,
   "id": "0017ece5",
   "metadata": {},
   "outputs": [
    {
     "name": "stdout",
     "output_type": "stream",
     "text": [
      "{1, 2, 3, 4, 5, 6}\n",
      "{3, 4}\n",
      "{1, 2}\n",
      "{5, 6}\n"
     ]
    }
   ],
   "source": [
    "a = {1,2,3,4}\n",
    "b = {3,4,5,6}\n",
    "print(a.union(b))\n",
    "print(a.intersection(b))\n",
    "print(a.difference(b))\n",
    "print(b.difference(a))"
   ]
  },
  {
   "cell_type": "code",
   "execution_count": 13,
   "id": "77e5c5d9",
   "metadata": {},
   "outputs": [
    {
     "name": "stdout",
     "output_type": "stream",
     "text": [
      "False\n",
      "True\n",
      "True\n",
      "False\n"
     ]
    }
   ],
   "source": [
    "a = {1,2}\n",
    "b = {1,2,3,4}\n",
    "print(a.issuperset(b))# superset is like a fruit\n",
    "print(b.issuperset(a))\n",
    "print(a.issubset(a))# this is adv of superset\n",
    "print(b.issubset(a))#subset is like a mango"
   ]
  },
  {
   "cell_type": "code",
   "execution_count": 17,
   "id": "ec477626",
   "metadata": {},
   "outputs": [
    {
     "name": "stdout",
     "output_type": "stream",
     "text": [
      "None\n",
      "{1, 2, 3, 4, 5, 9, 10}\n",
      "None\n",
      "{1, 2, 3, 5, 9, 10}\n"
     ]
    }
   ],
   "source": [
    "s = {1,2,3,9,10,5}# it will sort and give data in order\n",
    "print(s.add(4))\n",
    "print(s)\n",
    "print(s.remove(4))\n",
    "print(s)"
   ]
  },
  {
   "cell_type": "code",
   "execution_count": 18,
   "id": "4be7dc4a",
   "metadata": {},
   "outputs": [],
   "source": [
    "a = {'name':'kumar','age':'40','location':'chennai'}"
   ]
  },
  {
   "cell_type": "code",
   "execution_count": 27,
   "id": "c3aaeba8",
   "metadata": {},
   "outputs": [
    {
     "ename": "SyntaxError",
     "evalue": "invalid syntax (144287946.py, line 3)",
     "output_type": "error",
     "traceback": [
      "\u001b[1;36m  File \u001b[1;32m\"C:\\Users\\ELCOT\\AppData\\Local\\Temp\\ipykernel_3956\\144287946.py\"\u001b[1;36m, line \u001b[1;32m3\u001b[0m\n\u001b[1;33m    print(len(a))\u001b[0m\n\u001b[1;37m    ^\u001b[0m\n\u001b[1;31mSyntaxError\u001b[0m\u001b[1;31m:\u001b[0m invalid syntax\n"
     ]
    }
   ],
   "source": [
    "print(type(a))\n",
    "print(isinstance(a,set)\n",
    "print(len(a))\n",
    "print(max(a))\n",
    "print(min(a))\n",
    "print(sorted(a))"
   ]
  },
  {
   "cell_type": "code",
   "execution_count": 31,
   "id": "de690747",
   "metadata": {},
   "outputs": [
    {
     "name": "stdout",
     "output_type": "stream",
     "text": [
      "kumar\n",
      "kumar\n",
      "None\n",
      "123\n",
      "{'name': 'kumar', 'age': '40', 'location': 'chennai', 'nae': 'kirem', 'time': '123'}\n"
     ]
    }
   ],
   "source": [
    "a = {'name':'kumar','age':'40','location':'chennai','nae':'kirem'}\n",
    "print(a['name'])\n",
    "print(a.get('name'))\n",
    "print(a.get('time'))\n",
    "a[\"time\"]= '123'\n",
    "print(a.get('time'))\n",
    "print(a)"
   ]
  },
  {
   "cell_type": "code",
   "execution_count": 33,
   "id": "6a4ef747",
   "metadata": {},
   "outputs": [
    {
     "name": "stdout",
     "output_type": "stream",
     "text": [
      "dict_keys(['name', 'age', 'location', 'nae', 'time'])\n",
      "dict_values(['kumar', '40', 'chennai', 'kirem', '123'])\n"
     ]
    },
    {
     "ename": "AttributeError",
     "evalue": "'dict' object has no attribute 'type'",
     "output_type": "error",
     "traceback": [
      "\u001b[1;31m---------------------------------------------------------------------------\u001b[0m",
      "\u001b[1;31mAttributeError\u001b[0m                            Traceback (most recent call last)",
      "\u001b[1;32m~\\AppData\\Local\\Temp\\ipykernel_3956\\834471716.py\u001b[0m in \u001b[0;36m<module>\u001b[1;34m\u001b[0m\n\u001b[0;32m      1\u001b[0m \u001b[0mprint\u001b[0m\u001b[1;33m(\u001b[0m\u001b[0ma\u001b[0m\u001b[1;33m.\u001b[0m\u001b[0mkeys\u001b[0m\u001b[1;33m(\u001b[0m\u001b[1;33m)\u001b[0m\u001b[1;33m)\u001b[0m\u001b[1;33m\u001b[0m\u001b[1;33m\u001b[0m\u001b[0m\n\u001b[0;32m      2\u001b[0m \u001b[0mprint\u001b[0m\u001b[1;33m(\u001b[0m\u001b[0ma\u001b[0m\u001b[1;33m.\u001b[0m\u001b[0mvalues\u001b[0m\u001b[1;33m(\u001b[0m\u001b[1;33m)\u001b[0m\u001b[1;33m)\u001b[0m\u001b[1;33m\u001b[0m\u001b[1;33m\u001b[0m\u001b[0m\n\u001b[1;32m----> 3\u001b[1;33m \u001b[0mprint\u001b[0m\u001b[1;33m(\u001b[0m\u001b[0ma\u001b[0m\u001b[1;33m.\u001b[0m\u001b[0mtype\u001b[0m\u001b[1;33m(\u001b[0m\u001b[1;33m)\u001b[0m\u001b[1;33m)\u001b[0m\u001b[1;33m\u001b[0m\u001b[1;33m\u001b[0m\u001b[0m\n\u001b[0m",
      "\u001b[1;31mAttributeError\u001b[0m: 'dict' object has no attribute 'type'"
     ]
    }
   ],
   "source": [
    "print(a.keys())\n",
    "print(a.values())\n",
    "print(a.type())"
   ]
  },
  {
   "cell_type": "code",
   "execution_count": 46,
   "id": "60e0c6de",
   "metadata": {},
   "outputs": [
    {
     "name": "stdout",
     "output_type": "stream",
     "text": [
      "10\n",
      "0\n",
      "25\n",
      "3125\n",
      "1.0\n",
      "1\n",
      "0\n"
     ]
    }
   ],
   "source": [
    "#operator \n",
    "#artimtic\n",
    "a = 5\n",
    "b = 5\n",
    "print(a+b)\n",
    "print(a-b)\n",
    "print(a*b)\n",
    "print(a**b)\n",
    "print(a/b)\n",
    "print(a//b)#floor division _ quotient\n",
    "print(a%b)#modulus - reminder\n",
    "    "
   ]
  },
  {
   "cell_type": "code",
   "execution_count": 39,
   "id": "46c7aa7e",
   "metadata": {},
   "outputs": [
    {
     "ename": "IndentationError",
     "evalue": "unexpected indent (3926995513.py, line 2)",
     "output_type": "error",
     "traceback": [
      "\u001b[1;36m  File \u001b[1;32m\"C:\\Users\\ELCOT\\AppData\\Local\\Temp\\ipykernel_1356\\3926995513.py\"\u001b[1;36m, line \u001b[1;32m2\u001b[0m\n\u001b[1;33m    a = 5\u001b[0m\n\u001b[1;37m    ^\u001b[0m\n\u001b[1;31mIndentationError\u001b[0m\u001b[1;31m:\u001b[0m unexpected indent\n"
     ]
    }
   ],
   "source": [
    "##asignment\n",
    " a = 5\n",
    "    "
   ]
  },
  {
   "cell_type": "code",
   "execution_count": 40,
   "id": "2e565fbc",
   "metadata": {},
   "outputs": [
    {
     "name": "stdout",
     "output_type": "stream",
     "text": [
      "True\n",
      "False\n",
      "False\n",
      "True\n",
      "False\n",
      "True\n"
     ]
    }
   ],
   "source": [
    "## relation operator\n",
    "a = 5\n",
    "b = 5\n",
    "print(a ==b)\n",
    "print(a!=b)\n",
    "print(a>b)\n",
    "print(a>=b)\n",
    "print(a<b)\n",
    "print(a<=b)"
   ]
  },
  {
   "cell_type": "code",
   "execution_count": 42,
   "id": "cb158938",
   "metadata": {},
   "outputs": [
    {
     "name": "stdout",
     "output_type": "stream",
     "text": [
      "True\n"
     ]
    }
   ],
   "source": [
    "##logicial\n",
    "##and/or\n",
    "print(True and True)"
   ]
  },
  {
   "cell_type": "code",
   "execution_count": 43,
   "id": "8dc3650d",
   "metadata": {},
   "outputs": [
    {
     "name": "stdout",
     "output_type": "stream",
     "text": [
      "True\n"
     ]
    }
   ],
   "source": [
    "print(True or False)"
   ]
  },
  {
   "cell_type": "code",
   "execution_count": 44,
   "id": "51eb4a1f",
   "metadata": {},
   "outputs": [
    {
     "name": "stdout",
     "output_type": "stream",
     "text": [
      "False\n"
     ]
    }
   ],
   "source": [
    "print(not True)"
   ]
  },
  {
   "cell_type": "code",
   "execution_count": null,
   "id": "180e5862",
   "metadata": {},
   "outputs": [],
   "source": [
    "##bitwise"
   ]
  }
 ],
 "metadata": {
  "kernelspec": {
   "display_name": "Python 3 (ipykernel)",
   "language": "python",
   "name": "python3"
  },
  "language_info": {
   "codemirror_mode": {
    "name": "ipython",
    "version": 3
   },
   "file_extension": ".py",
   "mimetype": "text/x-python",
   "name": "python",
   "nbconvert_exporter": "python",
   "pygments_lexer": "ipython3",
   "version": "3.9.13"
  }
 },
 "nbformat": 4,
 "nbformat_minor": 5
}
