{
 "cells": [
  {
   "cell_type": "code",
   "execution_count": 2,
   "id": "8ce6d4df",
   "metadata": {},
   "outputs": [
    {
     "name": "stdout",
     "output_type": "stream",
     "text": [
      "hello\n"
     ]
    }
   ],
   "source": [
    "print(\"hello\")"
   ]
  },
  {
   "cell_type": "code",
   "execution_count": 2,
   "id": "aea33b77",
   "metadata": {},
   "outputs": [
    {
     "name": "stdout",
     "output_type": "stream",
     "text": [
      "hi\n",
      "hello\n",
      "welcome\n"
     ]
    }
   ],
   "source": [
    "print(\"hi\\nhello\\nwelcome\")"
   ]
  },
  {
   "cell_type": "code",
   "execution_count": 2,
   "id": "0ff792d1",
   "metadata": {},
   "outputs": [
    {
     "name": "stdout",
     "output_type": "stream",
     "text": [
      "hi\twelcome\thello\n"
     ]
    }
   ],
   "source": [
    "print(\"hi\\twelcome\\thello\")"
   ]
  },
  {
   "cell_type": "code",
   "execution_count": 8,
   "id": "39fbd13a",
   "metadata": {},
   "outputs": [],
   "source": [
    "import logging\n",
    "logger = logging.getLogger()"
   ]
  },
  {
   "cell_type": "code",
   "execution_count": 9,
   "id": "5ec48959",
   "metadata": {},
   "outputs": [
    {
     "name": "stderr",
     "output_type": "stream",
     "text": [
      "bug\n",
      "hello\n",
      "error\n",
      "has occured\n"
     ]
    }
   ],
   "source": [
    "logger.error(\"bug\")\n",
    "logger.error(\"hello\\nerror\\nhas occured\")"
   ]
  },
  {
   "cell_type": "code",
   "execution_count": 10,
   "id": "8f6c0556",
   "metadata": {},
   "outputs": [
    {
     "data": {
      "text/plain": [
       "'\\nadjsbcasjvbajbasbcscbschskc\\n\\n\\n\\n\\n'"
      ]
     },
     "execution_count": 10,
     "metadata": {},
     "output_type": "execute_result"
    }
   ],
   "source": [
    "\"\"\"\n",
    "adjsbcasjvbajbasbcscbschskc\n",
    "\n",
    "\n",
    "\n",
    "\n",
    "\"\"\" #anything tht comes under double codes is now as str"
   ]
  },
  {
   "cell_type": "code",
   "execution_count": 3,
   "id": "5b42c317",
   "metadata": {},
   "outputs": [
    {
     "name": "stdout",
     "output_type": "stream",
     "text": [
      "vishnuim vishnu from chetpet chnnai \n"
     ]
    },
    {
     "data": {
      "text/plain": [
       "'im vishnu from chetpet chnnai '"
      ]
     },
     "execution_count": 3,
     "metadata": {},
     "output_type": "execute_result"
    }
   ],
   "source": [
    "input(\"vishnu\")"
   ]
  },
  {
   "cell_type": "code",
   "execution_count": 10,
   "id": "3988d49f",
   "metadata": {},
   "outputs": [],
   "source": [
    "a = (\"welcome to my class\")"
   ]
  },
  {
   "cell_type": "code",
   "execution_count": 11,
   "id": "04edfa5e",
   "metadata": {},
   "outputs": [
    {
     "name": "stdout",
     "output_type": "stream",
     "text": [
      "welcome to my class\n"
     ]
    }
   ],
   "source": [
    "print(a)"
   ]
  },
  {
   "cell_type": "code",
   "execution_count": 18,
   "id": "6cdadefd",
   "metadata": {},
   "outputs": [],
   "source": [
    "D = \"vishnu\""
   ]
  },
  {
   "cell_type": "code",
   "execution_count": 19,
   "id": "dd1d2fb5",
   "metadata": {},
   "outputs": [
    {
     "name": "stdout",
     "output_type": "stream",
     "text": [
      "vishnu\n"
     ]
    }
   ],
   "source": [
    "print(D)"
   ]
  },
  {
   "cell_type": "code",
   "execution_count": 21,
   "id": "3f982cc0",
   "metadata": {},
   "outputs": [],
   "source": [
    "#data type of python\n",
    "#1, string\n",
    "# string means anything comes in doublecode"
   ]
  },
  {
   "cell_type": "code",
   "execution_count": 4,
   "id": "02c3ec3b",
   "metadata": {},
   "outputs": [
    {
     "name": "stdout",
     "output_type": "stream",
     "text": [
      "<class 'str'>\n",
      "True\n"
     ]
    }
   ],
   "source": [
    "d = \"vishnu\"\n",
    "print(type(d))\n",
    "print(isinstance(d,str))"
   ]
  },
  {
   "cell_type": "code",
   "execution_count": 5,
   "id": "34d65e5f",
   "metadata": {},
   "outputs": [
    {
     "name": "stdout",
     "output_type": "stream",
     "text": [
      "17\n",
      "[' ', 'C', 'a', 'a', 'a', 'd', 'i', 'i', 'l', 'n', 'n', 'o', 'o', 'r', 'r', 's', 't']\n",
      " \n",
      "t\n"
     ]
    }
   ],
   "source": [
    "a = \"Cristiano ranaldo\"\n",
    "print(len(a))# this is for lenght in numeric\n",
    "print(sorted(a))\n",
    "print(min(a))\n",
    "print(max(a))"
   ]
  },
  {
   "cell_type": "code",
   "execution_count": 8,
   "id": "05050557",
   "metadata": {},
   "outputs": [
    {
     "name": "stdout",
     "output_type": "stream",
     "text": [
      "CRISTIANO RANALDO\n",
      "cristiano ranaldo\n",
      "False\n",
      "False\n",
      "False\n",
      "False\n",
      "False\n",
      "Cristiano ranaldo\n"
     ]
    }
   ],
   "source": [
    "print(a.upper())\n",
    "print(a.lower())\n",
    "print(a.isupper())\n",
    "print(a.islower())\n",
    "print(a.isalpha())\n",
    "print(a.isalnum())\n",
    "print(a.isdigit())\n",
    "print(a)"
   ]
  },
  {
   "cell_type": "raw",
   "id": "e42832d8",
   "metadata": {},
   "source": [
    "print(a.upper()) #makes evertything to upper\n",
    "print (a.lower()) # makes everything to lower\n",
    "print(a.isupper())#ques.is upper\n",
    "print(a.islower())# ques. is lower\n",
    "print(a.isalpha())\n",
    "print(a.isalnum()) #\n",
    "print(a.isdigit())\n",
    "print(a)"
   ]
  },
  {
   "cell_type": "code",
   "execution_count": 33,
   "id": "0c818910",
   "metadata": {},
   "outputs": [
    {
     "name": "stdout",
     "output_type": "stream",
     "text": [
      "i\n",
      "o\n"
     ]
    }
   ],
   "source": [
    "a = \"cristianoronaldo\"\n",
    "print(a[5])\n",
    "print(a[-1])"
   ]
  },
  {
   "cell_type": "code",
   "execution_count": 9,
   "id": "8091319b",
   "metadata": {},
   "outputs": [
    {
     "name": "stdout",
     "output_type": "stream",
     "text": [
      "stianor\n",
      "cristianoronaldo\n",
      "cristian\n",
      "stianor\n",
      "cristianoronaldo\n",
      "csarao\n"
     ]
    }
   ],
   "source": [
    "#start : end : interval (a[:])this is used for value\n",
    "a = \"cristianoronaldo\"\n",
    "print(a[3:10])\n",
    "print(a[:])\n",
    "print(a[0:8])\n",
    "print(a[3:10])\n",
    "print(a[:])\n",
    "print(a[::3])\n"
   ]
  },
  {
   "cell_type": "code",
   "execution_count": 10,
   "id": "a76518fe",
   "metadata": {},
   "outputs": [
    {
     "name": "stdout",
     "output_type": "stream",
     "text": [
      "1\n"
     ]
    }
   ],
   "source": [
    "\n",
    "a = \"cristianoronaldoz\"\n",
    "print(a.index(\"r\"))"
   ]
  },
  {
   "cell_type": "markdown",
   "id": "bf0b82ad",
   "metadata": {},
   "source": [
    "print(a.index(\"o\",3))\n",
    "print(a.index(\"o\",9,15))\n"
   ]
  },
  {
   "cell_type": "code",
   "execution_count": 11,
   "id": "9153b074",
   "metadata": {},
   "outputs": [
    {
     "name": "stdout",
     "output_type": "stream",
     "text": [
      "1\n",
      "9\n"
     ]
    }
   ],
   "source": [
    "\n",
    "print(a.index(\"r\"))\n",
    "print(a.rindex(\"r\"))\n"
   ]
  },
  {
   "cell_type": "code",
   "execution_count": 12,
   "id": "67a2a806",
   "metadata": {},
   "outputs": [
    {
     "ename": "NameError",
     "evalue": "name 'i' is not defined",
     "output_type": "error",
     "traceback": [
      "\u001b[1;31m---------------------------------------------------------------------------\u001b[0m",
      "\u001b[1;31mNameError\u001b[0m                                 Traceback (most recent call last)",
      "\u001b[1;32m~\\AppData\\Local\\Temp\\ipykernel_32\\2649811079.py\u001b[0m in \u001b[0;36m<module>\u001b[1;34m\u001b[0m\n\u001b[0;32m      3\u001b[0m \u001b[1;33m\u001b[0m\u001b[0m\n\u001b[0;32m      4\u001b[0m \u001b[1;31m#print (a.index(\"y\"))\u001b[0m\u001b[1;33m\u001b[0m\u001b[1;33m\u001b[0m\u001b[0m\n\u001b[1;32m----> 5\u001b[1;33m \u001b[0mprint\u001b[0m\u001b[1;33m(\u001b[0m\u001b[0ma\u001b[0m\u001b[1;33m.\u001b[0m\u001b[0mfind\u001b[0m\u001b[1;33m(\u001b[0m\u001b[0mi\u001b[0m\u001b[1;33m)\u001b[0m\u001b[1;33m)\u001b[0m\u001b[1;33m\u001b[0m\u001b[1;33m\u001b[0m\u001b[0m\n\u001b[0m",
      "\u001b[1;31mNameError\u001b[0m: name 'i' is not defined"
     ]
    }
   ],
   "source": [
    "#index - > find \n",
    "#index - > rfind \n",
    "\n",
    "#print (a.index(\"y\"))\n",
    "print(a.find(i))"
   ]
  },
  {
   "cell_type": "code",
   "execution_count": 10,
   "id": "69e3030c",
   "metadata": {},
   "outputs": [
    {
     "name": "stdout",
     "output_type": "stream",
     "text": [
      "3\n",
      "['cristian', 'r', 'nald', 'z']\n",
      "cristian$r$nald$z\n",
      "True\n",
      "True\n"
     ]
    }
   ],
   "source": [
    "print(a.count(\"o\"))\n",
    "print(a.split(\"o\"))\n",
    "print(a.replace(\"o\",\"$\"))\n",
    "print(a.startswith(\"c\"))\n",
    "print(a.endswith(\"z\"))"
   ]
  },
  {
   "cell_type": "code",
   "execution_count": 43,
   "id": "2f14add8",
   "metadata": {},
   "outputs": [],
   "source": [
    "#get input from user and remove spaces and gts the total lenght of the word\n"
   ]
  },
  {
   "cell_type": "code",
   "execution_count": 44,
   "id": "c5f2f7d5",
   "metadata": {},
   "outputs": [],
   "source": [
    "a = \"123\"\n",
    "b = 123"
   ]
  },
  {
   "cell_type": "code",
   "execution_count": 45,
   "id": "8c6fcd99",
   "metadata": {},
   "outputs": [
    {
     "name": "stdout",
     "output_type": "stream",
     "text": [
      "<class 'str'>\n"
     ]
    },
    {
     "ename": "TypeError",
     "evalue": "isinstance expected 2 arguments, got 1",
     "output_type": "error",
     "traceback": [
      "\u001b[1;31m---------------------------------------------------------------------------\u001b[0m",
      "\u001b[1;31mTypeError\u001b[0m                                 Traceback (most recent call last)",
      "\u001b[1;32m~\\AppData\\Local\\Temp\\ipykernel_7564\\4154543090.py\u001b[0m in \u001b[0;36m<module>\u001b[1;34m\u001b[0m\n\u001b[0;32m      1\u001b[0m \u001b[0mprint\u001b[0m\u001b[1;33m(\u001b[0m\u001b[0mtype\u001b[0m\u001b[1;33m(\u001b[0m\u001b[0ma\u001b[0m\u001b[1;33m)\u001b[0m\u001b[1;33m)\u001b[0m\u001b[1;33m\u001b[0m\u001b[1;33m\u001b[0m\u001b[0m\n\u001b[1;32m----> 2\u001b[1;33m \u001b[0mprint\u001b[0m\u001b[1;33m(\u001b[0m\u001b[0misinstance\u001b[0m\u001b[1;33m(\u001b[0m\u001b[1;33m(\u001b[0m\u001b[0ma\u001b[0m\u001b[1;33m,\u001b[0m\u001b[0mstr\u001b[0m\u001b[1;33m)\u001b[0m\u001b[1;33m)\u001b[0m\u001b[1;33m)\u001b[0m\u001b[1;33m\u001b[0m\u001b[1;33m\u001b[0m\u001b[0m\n\u001b[0m",
      "\u001b[1;31mTypeError\u001b[0m: isinstance expected 2 arguments, got 1"
     ]
    }
   ],
   "source": [
    "print(type(a))\n",
    "print(isinstance((a,str)"
   ]
  },
  {
   "cell_type": "code",
   "execution_count": 46,
   "id": "e38f9875",
   "metadata": {},
   "outputs": [
    {
     "name": "stdout",
     "output_type": "stream",
     "text": [
      "<class 'str'>\n",
      "True\n"
     ]
    }
   ],
   "source": [
    "a = \"123\"\n",
    "b = 123\n",
    "print(type(a))\n",
    "print(isinstance(a,str))"
   ]
  },
  {
   "cell_type": "code",
   "execution_count": 47,
   "id": "cc5790ce",
   "metadata": {},
   "outputs": [
    {
     "name": "stdout",
     "output_type": "stream",
     "text": [
      "<class 'int'>\n",
      "False\n"
     ]
    }
   ],
   "source": [
    "print(type(b))\n",
    "print(isinstance(b,str))"
   ]
  },
  {
   "cell_type": "code",
   "execution_count": 48,
   "id": "58342b8c",
   "metadata": {},
   "outputs": [
    {
     "name": "stdout",
     "output_type": "stream",
     "text": [
      "<class 'str'>\n",
      "True\n"
     ]
    }
   ],
   "source": [
    "b = \"123\"\n",
    "print(type(b))\n",
    "print(isinstance(b,str))"
   ]
  },
  {
   "cell_type": "code",
   "execution_count": 49,
   "id": "dda1b8b0",
   "metadata": {},
   "outputs": [
    {
     "name": "stdout",
     "output_type": "stream",
     "text": [
      "<class 'str'>\n",
      "<class 'int'>\n",
      "123\n"
     ]
    }
   ],
   "source": [
    "print(type(a))\n",
    "a = int(a)\n",
    "print(type(a))\n",
    "print(a)"
   ]
  },
  {
   "cell_type": "code",
   "execution_count": 50,
   "id": "42c51093",
   "metadata": {},
   "outputs": [
    {
     "name": "stdout",
     "output_type": "stream",
     "text": [
      "123.0\n"
     ]
    }
   ],
   "source": [
    "a = float(a)\n",
    "print(a)"
   ]
  },
  {
   "cell_type": "code",
   "execution_count": 51,
   "id": "f70f7640",
   "metadata": {},
   "outputs": [
    {
     "name": "stdout",
     "output_type": "stream",
     "text": [
      "0x7b\n",
      "0o173\n"
     ]
    }
   ],
   "source": [
    "a = 123\n",
    "print(hex(a))\n",
    "print(oct(a))\n"
   ]
  },
  {
   "cell_type": "code",
   "execution_count": 52,
   "id": "84ec7bca",
   "metadata": {},
   "outputs": [],
   "source": [
    "#list\n"
   ]
  },
  {
   "cell_type": "code",
   "execution_count": 54,
   "id": "3b5fc0f7",
   "metadata": {},
   "outputs": [],
   "source": [
    "     a = [\"dinesh\",\"20\",\"chennai\"]"
   ]
  },
  {
   "cell_type": "code",
   "execution_count": 16,
   "id": "be529909",
   "metadata": {},
   "outputs": [
    {
     "name": "stdout",
     "output_type": "stream",
     "text": [
      "['dinesh', '20', 'chennai']\n",
      "<class 'list'>\n",
      "['dinesh', '20', 'chennai']\n"
     ]
    }
   ],
   "source": [
    " a = [\"dinesh\",\"20\",\"chennai\"]\n",
    "print(a)\n",
    "print(type(a))\n",
    "print(a[:])\n"
   ]
  },
  {
   "cell_type": "code",
   "execution_count": 23,
   "id": "7458b3c9",
   "metadata": {},
   "outputs": [
    {
     "name": "stdout",
     "output_type": "stream",
     "text": [
      "['dinesh', '20', 'chennai', 'demo']\n"
     ]
    }
   ],
   "source": [
    "a = [\"dinesh\",\"20\",\"chennai\"]\n",
    "a.append(\"demo\")\n",
    "print(a)"
   ]
  },
  {
   "cell_type": "code",
   "execution_count": 22,
   "id": "a0a4fddb",
   "metadata": {},
   "outputs": [
    {
     "ename": "IndentationError",
     "evalue": "unexpected indent (2550227321.py, line 2)",
     "output_type": "error",
     "traceback": [
      "\u001b[1;36m  File \u001b[1;32m\"C:\\Users\\ELCOT\\AppData\\Local\\Temp\\ipykernel_7864\\2550227321.py\"\u001b[1;36m, line \u001b[1;32m2\u001b[0m\n\u001b[1;33m    print(a)\u001b[0m\n\u001b[1;37m    ^\u001b[0m\n\u001b[1;31mIndentationError\u001b[0m\u001b[1;31m:\u001b[0m unexpected indent\n"
     ]
    }
   ],
   "source": []
  },
  {
   "cell_type": "code",
   "execution_count": 28,
   "id": "96057e7b",
   "metadata": {},
   "outputs": [
    {
     "name": "stdout",
     "output_type": "stream",
     "text": [
      "['dinesh', 'try', 'try', '20', 'chennai', 'demo', 'try', 'try']\n"
     ]
    }
   ],
   "source": [
    "a.insert(2,\"try\")# this for particularly add the data\n",
    "print(a)"
   ]
  },
  {
   "cell_type": "code",
   "execution_count": 32,
   "id": "f10ee39d",
   "metadata": {},
   "outputs": [
    {
     "name": "stdout",
     "output_type": "stream",
     "text": [
      "['dinesh', '20', 'chennai', 'demo', 'try']\n"
     ]
    }
   ],
   "source": [
    "a.remove(\"try\")\n",
    "print(a)"
   ]
  },
  {
   "cell_type": "code",
   "execution_count": 41,
   "id": "20acc7c8",
   "metadata": {},
   "outputs": [
    {
     "name": "stdout",
     "output_type": "stream",
     "text": [
      "['dinesh', '20']\n"
     ]
    }
   ],
   "source": [
    "a = [\"dinesh\",\"20\",\"chennai\"]\n",
    "del a[2]\n",
    "print(a)"
   ]
  },
  {
   "cell_type": "code",
   "execution_count": 63,
   "id": "c3dfd816",
   "metadata": {},
   "outputs": [
    {
     "name": "stdout",
     "output_type": "stream",
     "text": [
      "['dinesh', 'chennai', 'demo', 'demo']\n"
     ]
    }
   ],
   "source": [
    "print(a)"
   ]
  },
  {
   "cell_type": "code",
   "execution_count": 19,
   "id": "f9d95e30",
   "metadata": {},
   "outputs": [
    {
     "name": "stdout",
     "output_type": "stream",
     "text": [
      "['hello', 'welcome', ['today', 'class']]\n"
     ]
    }
   ],
   "source": [
    "a = [\"hello\",\"welcome\"]\n",
    "b = [\"today\", \"class\"]\n",
    "a.append(b)#append is for join data with column\n",
    "print(a)"
   ]
  },
  {
   "cell_type": "code",
   "execution_count": 13,
   "id": "e9b832ea",
   "metadata": {},
   "outputs": [
    {
     "name": "stdout",
     "output_type": "stream",
     "text": [
      "['hello', 'welcome', 'today', 'class']\n"
     ]
    }
   ],
   "source": [
    "a = [\"hello\",\"welcome\"]\n",
    "b = [\"today\", \"class\"]\n",
    "a.extend(b)# extend is for joining the data\n",
    "print(a)"
   ]
  },
  {
   "cell_type": "code",
   "execution_count": 74,
   "id": "edb4aec0",
   "metadata": {},
   "outputs": [],
   "source": [
    "a = (\"hello\",\"welcome\",\"good morning\")"
   ]
  },
  {
   "cell_type": "code",
   "execution_count": 78,
   "id": "add71923",
   "metadata": {},
   "outputs": [
    {
     "name": "stdout",
     "output_type": "stream",
     "text": [
      "<class 'tuple'>\n",
      "<built-in function isinstance> (('hello', 'welcome', 'good morning'), <class 'tuple'>)\n",
      "good morning\n",
      "welcome\n",
      "['good morning', 'hello', 'welcome']\n",
      "<built-in method index of tuple object at 0x0000014F95C51B40>\n"
     ]
    },
    {
     "ename": "AttributeError",
     "evalue": "'tuple' object has no attribute 'rindex'",
     "output_type": "error",
     "traceback": [
      "\u001b[1;31m---------------------------------------------------------------------------\u001b[0m",
      "\u001b[1;31mAttributeError\u001b[0m                            Traceback (most recent call last)",
      "\u001b[1;32m~\\AppData\\Local\\Temp\\ipykernel_7564\\1157919032.py\u001b[0m in \u001b[0;36m<module>\u001b[1;34m\u001b[0m\n\u001b[0;32m      6\u001b[0m \u001b[0mprint\u001b[0m\u001b[1;33m(\u001b[0m\u001b[0msorted\u001b[0m\u001b[1;33m(\u001b[0m\u001b[0ma\u001b[0m\u001b[1;33m)\u001b[0m\u001b[1;33m)\u001b[0m\u001b[1;33m\u001b[0m\u001b[1;33m\u001b[0m\u001b[0m\n\u001b[0;32m      7\u001b[0m \u001b[0mprint\u001b[0m\u001b[1;33m(\u001b[0m\u001b[0ma\u001b[0m\u001b[1;33m.\u001b[0m\u001b[0mindex\u001b[0m\u001b[1;33m)\u001b[0m\u001b[1;33m\u001b[0m\u001b[1;33m\u001b[0m\u001b[0m\n\u001b[1;32m----> 8\u001b[1;33m \u001b[0mprint\u001b[0m\u001b[1;33m(\u001b[0m\u001b[0ma\u001b[0m\u001b[1;33m.\u001b[0m\u001b[0mrindex\u001b[0m\u001b[1;33m)\u001b[0m\u001b[1;33m\u001b[0m\u001b[1;33m\u001b[0m\u001b[0m\n\u001b[0m",
      "\u001b[1;31mAttributeError\u001b[0m: 'tuple' object has no attribute 'rindex'"
     ]
    }
   ],
   "source": [
    "a = (\"hello\",\"welcome\",\"good morning\")\n",
    "print(type(a))\n",
    "print(isinstance,(a,tuple))\n",
    "print(min(a))\n",
    "print(max(a))\n",
    "print(sorted(a))\n",
    "print(a.index)\n",
    "print(a.rindex)\n"
   ]
  },
  {
   "cell_type": "code",
   "execution_count": 1,
   "id": "6f01011a",
   "metadata": {},
   "outputs": [],
   "source": [
    "a = \"Python is a high-level, general-purpose programming language. Its design philosophy emphasizes code readability with the use of significant indentation. Python is dynamically-typed and garbage-collected. It supports multiple programming paradigms, including structured, object-oriented and functional programming.\""
   ]
  },
  {
   "cell_type": "code",
   "execution_count": 2,
   "id": "fdac9942",
   "metadata": {},
   "outputs": [
    {
     "name": "stdout",
     "output_type": "stream",
     "text": [
      "Python is a high-level, general-purpose programming language. Its design philosophy emphasizes code readability with the use of significant indentation. Python is dynamically-typed and garbage-collected. It supports multiple programming paradigms, including structured, object-oriented and functional programming.\n"
     ]
    }
   ],
   "source": [
    "print(a)"
   ]
  },
  {
   "cell_type": "code",
   "execution_count": 4,
   "id": "28a5d66c",
   "metadata": {},
   "outputs": [
    {
     "ename": "AttributeError",
     "evalue": "'str' object has no attribute 'remove'",
     "output_type": "error",
     "traceback": [
      "\u001b[1;31m---------------------------------------------------------------------------\u001b[0m",
      "\u001b[1;31mAttributeError\u001b[0m                            Traceback (most recent call last)",
      "\u001b[1;32m~\\AppData\\Local\\Temp\\ipykernel_8468\\1547434273.py\u001b[0m in \u001b[0;36m<module>\u001b[1;34m\u001b[0m\n\u001b[1;32m----> 1\u001b[1;33m \u001b[0ma\u001b[0m\u001b[1;33m.\u001b[0m\u001b[0mremove\u001b[0m\u001b[1;33m(\u001b[0m\u001b[1;34m\" \"\u001b[0m\u001b[1;33m)\u001b[0m\u001b[1;33m\u001b[0m\u001b[1;33m\u001b[0m\u001b[0m\n\u001b[0m\u001b[0;32m      2\u001b[0m \u001b[0mprint\u001b[0m\u001b[1;33m(\u001b[0m\u001b[0mtype\u001b[0m\u001b[1;33m(\u001b[0m\u001b[0ma\u001b[0m\u001b[1;33m)\u001b[0m\u001b[1;33m)\u001b[0m\u001b[1;33m\u001b[0m\u001b[1;33m\u001b[0m\u001b[0m\n",
      "\u001b[1;31mAttributeError\u001b[0m: 'str' object has no attribute 'remove'"
     ]
    }
   ],
   "source": [
    "a.remove(\" \")\n",
    "print(type(a))"
   ]
  },
  {
   "cell_type": "code",
   "execution_count": 5,
   "id": "b6e3af0b",
   "metadata": {},
   "outputs": [
    {
     "data": {
      "text/plain": [
       "'Python is a high-level, general-purpose programming language. Its design philosophy emphasizes code readability with the use of significant indentation. Python is dynamically-typed and garbage-collected. It supports multiple programming paradigms, including structured, object-oriented and functional programming.'"
      ]
     },
     "execution_count": 5,
     "metadata": {},
     "output_type": "execute_result"
    }
   ],
   "source": [
    "a.strip()"
   ]
  },
  {
   "cell_type": "code",
   "execution_count": 8,
   "id": "c2dc3cb1",
   "metadata": {
    "scrolled": true
   },
   "outputs": [
    {
     "name": "stdout",
     "output_type": "stream",
     "text": [
      "Python is a high-level, general-purpose programming language. Its design philosophy emphasizes code readability with the use of significant indentation. Python is dynamically-typed and garbage-collected. It supports multiple programming paradigms, including structured, object-oriented and functional programming.\n"
     ]
    }
   ],
   "source": [
    "print(a[:])"
   ]
  },
  {
   "cell_type": "code",
   "execution_count": 9,
   "id": "688382c6",
   "metadata": {},
   "outputs": [
    {
     "name": "stdout",
     "output_type": "stream",
     "text": [
      "313\n"
     ]
    }
   ],
   "source": [
    "print(len(a))"
   ]
  },
  {
   "cell_type": "code",
   "execution_count": 18,
   "id": "36373074",
   "metadata": {},
   "outputs": [
    {
     "name": "stdout",
     "output_type": "stream",
     "text": [
      "Python is a high-level, general-purpose programming language. Its design philosophy emphasizes code readability with the use of significant indentation. Python is dynamically-typed and garbage-collected. It supports multiple programming paradigms, including structured, object-oriented and functional programming.\n"
     ]
    }
   ],
   "source": [
    "print(a)"
   ]
  },
  {
   "cell_type": "code",
   "execution_count": 24,
   "id": "f400301c",
   "metadata": {},
   "outputs": [
    {
     "name": "stdout",
     "output_type": "stream",
     "text": [
      "Python$is$a$high-level,$general-purpose$programming$language.$Its$design$philosophy$emphasizes$code$readability$with$the$use$of$significant$indentation.$Python$is$dynamically-typed$and$garbage-collected.$It$supports$multiple$programming$paradigms,$including$structured,$object-oriented$and$functional$programming.\n"
     ]
    }
   ],
   "source": [
    "print(a.replace(\" \",\"$\"))\n"
   ]
  },
  {
   "cell_type": "code",
   "execution_count": 44,
   "id": "02c34c88",
   "metadata": {},
   "outputs": [
    {
     "ename": "SyntaxError",
     "evalue": "invalid syntax (3656560354.py, line 1)",
     "output_type": "error",
     "traceback": [
      "\u001b[1;36m  File \u001b[1;32m\"C:\\Users\\ELCOT\\AppData\\Local\\Temp\\ipykernel_32\\3656560354.py\"\u001b[1;36m, line \u001b[1;32m1\u001b[0m\n\u001b[1;33m    print(a.count($))\u001b[0m\n\u001b[1;37m                  ^\u001b[0m\n\u001b[1;31mSyntaxError\u001b[0m\u001b[1;31m:\u001b[0m invalid syntax\n"
     ]
    }
   ],
   "source": [
    "print(a.count($))\n",
    "print(a.split($))"
   ]
  },
  {
   "cell_type": "code",
   "execution_count": 32,
   "id": "dfa7d1ae",
   "metadata": {},
   "outputs": [
    {
     "name": "stdout",
     "output_type": "stream",
     "text": [
      "279\n"
     ]
    }
   ],
   "source": [
    "a = a.replace(\" \",\"\")\n",
    "print(len(a))"
   ]
  },
  {
   "cell_type": "code",
   "execution_count": null,
   "id": "b9105564",
   "metadata": {},
   "outputs": [],
   "source": []
  },
  {
   "cell_type": "code",
   "execution_count": null,
   "id": "b5056db8",
   "metadata": {},
   "outputs": [],
   "source": []
  }
 ],
 "metadata": {
  "kernelspec": {
   "display_name": "Python 3 (ipykernel)",
   "language": "python",
   "name": "python3"
  },
  "language_info": {
   "codemirror_mode": {
    "name": "ipython",
    "version": 3
   },
   "file_extension": ".py",
   "mimetype": "text/x-python",
   "name": "python",
   "nbconvert_exporter": "python",
   "pygments_lexer": "ipython3",
   "version": "3.9.13"
  }
 },
 "nbformat": 4,
 "nbformat_minor": 5
}
