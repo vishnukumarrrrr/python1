{
 "cells": [
  {
   "cell_type": "code",
   "execution_count": 7,
   "id": "b2585530",
   "metadata": {},
   "outputs": [],
   "source": [
    "class calc():#this is superset \n",
    "    \n",
    "    def add(self,a,b):#this is subset\n",
    "        print(a+b)\n",
    "        \n",
    "    def sub(self,a,b):\n",
    "        print(a-b)\n",
    "    def multi(self,a,b):\n",
    "        print(a*b)\n",
    "    def divide(self,a,b):\n",
    "        print(a/b)\n",
    "        "
   ]
  },
  {
   "cell_type": "code",
   "execution_count": 2,
   "id": "99dfc56a",
   "metadata": {},
   "outputs": [
    {
     "name": "stdout",
     "output_type": "stream",
     "text": [
      "9\n"
     ]
    }
   ],
   "source": [
    "a = calc()\n",
    "a.add(5,4)"
   ]
  },
  {
   "cell_type": "code",
   "execution_count": 3,
   "id": "00edcb9d",
   "metadata": {},
   "outputs": [
    {
     "name": "stdout",
     "output_type": "stream",
     "text": [
      "-1\n"
     ]
    }
   ],
   "source": [
    "a = calc()\n",
    "a.sub(5,6)"
   ]
  },
  {
   "cell_type": "code",
   "execution_count": 4,
   "id": "bc6210cf",
   "metadata": {},
   "outputs": [
    {
     "name": "stdout",
     "output_type": "stream",
     "text": [
      "<class '__main__.calc'>\n"
     ]
    }
   ],
   "source": [
    "print(calc)"
   ]
  },
  {
   "cell_type": "code",
   "execution_count": 5,
   "id": "b2e96f63",
   "metadata": {},
   "outputs": [
    {
     "name": "stdout",
     "output_type": "stream",
     "text": [
      "<__main__.calc object at 0x0000027ED8230CA0>\n"
     ]
    }
   ],
   "source": [
    "print(a)"
   ]
  },
  {
   "cell_type": "code",
   "execution_count": 6,
   "id": "57ad249f",
   "metadata": {},
   "outputs": [
    {
     "ename": "NameError",
     "evalue": "name 'b' is not defined",
     "output_type": "error",
     "traceback": [
      "\u001b[1;31m---------------------------------------------------------------------------\u001b[0m",
      "\u001b[1;31mNameError\u001b[0m                                 Traceback (most recent call last)",
      "\u001b[1;32m~\\AppData\\Local\\Temp\\ipykernel_5696\\324135452.py\u001b[0m in \u001b[0;36m<module>\u001b[1;34m\u001b[0m\n\u001b[1;32m----> 1\u001b[1;33m \u001b[0mprint\u001b[0m\u001b[1;33m(\u001b[0m\u001b[0mb\u001b[0m\u001b[1;33m)\u001b[0m\u001b[1;33m\u001b[0m\u001b[1;33m\u001b[0m\u001b[0m\n\u001b[0m",
      "\u001b[1;31mNameError\u001b[0m: name 'b' is not defined"
     ]
    }
   ],
   "source": [
    "print(b)"
   ]
  },
  {
   "cell_type": "code",
   "execution_count": 8,
   "id": "cef098de",
   "metadata": {},
   "outputs": [
    {
     "name": "stdout",
     "output_type": "stream",
     "text": [
      "24\n"
     ]
    }
   ],
   "source": [
    "a = calc()\n",
    "a.multi(4,6)"
   ]
  },
  {
   "cell_type": "code",
   "execution_count": 10,
   "id": "7a805bf0",
   "metadata": {},
   "outputs": [
    {
     "name": "stdout",
     "output_type": "stream",
     "text": [
      "0.2\n"
     ]
    }
   ],
   "source": [
    "obj = calc()\n",
    "a.divide(6,30)"
   ]
  },
  {
   "cell_type": "code",
   "execution_count": 11,
   "id": "2874d9ab",
   "metadata": {},
   "outputs": [],
   "source": [
    "class hotel():\n",
    "    \n",
    "    def floor(self,a):\n",
    "        if a == \"1\":\n",
    "            print(\"veg\")\n",
    "        elif a == \"2\":\n",
    "            print(\"non veg\")\n",
    "    def dish(self,a):\n",
    "        if a == \"1\":\n",
    "            print(\"veg biryani\")\n",
    "        elif a == \"2\":\n",
    "            print(\"chicken briyani\")"
   ]
  },
  {
   "cell_type": "code",
   "execution_count": 12,
   "id": "f61abb05",
   "metadata": {},
   "outputs": [
    {
     "name": "stdout",
     "output_type": "stream",
     "text": [
      "veg\n",
      "chicken briyani\n"
     ]
    }
   ],
   "source": [
    "a = hotel()\n",
    "a.floor(\"1\")\n",
    "a.dish(\"2\")"
   ]
  },
  {
   "cell_type": "code",
   "execution_count": 9,
   "id": "8b4b8ede",
   "metadata": {},
   "outputs": [],
   "source": [
    "class hotel():\n",
    "    \n",
    "    def __init__(self,a):\n",
    "        self.a = a\n",
    "        \n",
    "    def floor(self):\n",
    "        if self.a == \"1\":\n",
    "            print(\"veg\")\n",
    "        elif self.a == \"2\":\n",
    "            print(\"non veg\")\n",
    "            \n",
    "    def dish(self):\n",
    "        if self.a == \"1\":\n",
    "            print(\"veg biryani\")\n",
    "        elif self.a == \"2\":\n",
    "            print(\"chicken briyani\")"
   ]
  },
  {
   "cell_type": "code",
   "execution_count": 13,
   "id": "e8c8ad67",
   "metadata": {},
   "outputs": [
    {
     "name": "stdout",
     "output_type": "stream",
     "text": [
      "non veg\n",
      "chicken briyani\n"
     ]
    }
   ],
   "source": [
    "b = hotel(\"2\")\n",
    "b.floor()\n",
    "b.dish()"
   ]
  },
  {
   "cell_type": "code",
   "execution_count": 14,
   "id": "12317809",
   "metadata": {},
   "outputs": [
    {
     "name": "stdout",
     "output_type": "stream",
     "text": [
      "non veg\n",
      "chicken briyani\n"
     ]
    }
   ],
   "source": [
    "b.floor()\n",
    "b.dish()"
   ]
  },
  {
   "cell_type": "code",
   "execution_count": 16,
   "id": "bce1e85d",
   "metadata": {},
   "outputs": [
    {
     "ename": "NameError",
     "evalue": "name 'a' is not defined",
     "output_type": "error",
     "traceback": [
      "\u001b[1;31m---------------------------------------------------------------------------\u001b[0m",
      "\u001b[1;31mNameError\u001b[0m                                 Traceback (most recent call last)",
      "\u001b[1;32m~\\AppData\\Local\\Temp\\ipykernel_9864\\3654781420.py\u001b[0m in \u001b[0;36m<module>\u001b[1;34m\u001b[0m\n\u001b[1;32m----> 1\u001b[1;33m \u001b[0mdir\u001b[0m\u001b[1;33m(\u001b[0m\u001b[0ma\u001b[0m\u001b[1;33m)\u001b[0m\u001b[1;33m\u001b[0m\u001b[1;33m\u001b[0m\u001b[0m\n\u001b[0m\u001b[0;32m      2\u001b[0m \u001b[0mprint\u001b[0m\u001b[1;33m(\u001b[0m\u001b[0ma\u001b[0m\u001b[1;33m)\u001b[0m\u001b[1;33m\u001b[0m\u001b[1;33m\u001b[0m\u001b[0m\n",
      "\u001b[1;31mNameError\u001b[0m: name 'a' is not defined"
     ]
    }
   ],
   "source": [
    "class goldrate(self,price):\n",
    "    \n",
    "    def __init__(self,gram):\n",
    "        self.rate"
   ]
  },
  {
   "cell_type": "code",
   "execution_count": null,
   "id": "cc941046",
   "metadata": {},
   "outputs": [],
   "source": []
  }
 ],
 "metadata": {
  "kernelspec": {
   "display_name": "Python 3 (ipykernel)",
   "language": "python",
   "name": "python3"
  },
  "language_info": {
   "codemirror_mode": {
    "name": "ipython",
    "version": 3
   },
   "file_extension": ".py",
   "mimetype": "text/x-python",
   "name": "python",
   "nbconvert_exporter": "python",
   "pygments_lexer": "ipython3",
   "version": "3.9.13"
  }
 },
 "nbformat": 4,
 "nbformat_minor": 5
}
