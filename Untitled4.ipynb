{
 "cells": [
  {
   "cell_type": "code",
   "execution_count": 6,
   "id": "df76c7a6",
   "metadata": {},
   "outputs": [],
   "source": [
    "#single inheritance\n",
    "class calc():\n",
    "    \n",
    "    def add(self,a,b):\n",
    "        print(a+b)\n",
    "    def sub(self,a,b):\n",
    "        print(a-b)\n",
    "        "
   ]
  },
  {
   "cell_type": "code",
   "execution_count": 7,
   "id": "e76d1c5b",
   "metadata": {},
   "outputs": [],
   "source": [
    "class calc1(calc):\n",
    "    \n",
    "    def multi(self,a,b):\n",
    "        print(a*b)\n",
    "        "
   ]
  },
  {
   "cell_type": "code",
   "execution_count": 8,
   "id": "11c82235",
   "metadata": {},
   "outputs": [
    {
     "name": "stdout",
     "output_type": "stream",
     "text": [
      "9\n",
      "0\n",
      "9\n"
     ]
    }
   ],
   "source": [
    "a=calc1()\n",
    "a.add(5,4)\n",
    "a.sub(5,5)\n",
    "a.multi(3,3)"
   ]
  },
  {
   "cell_type": "code",
   "execution_count": 10,
   "id": "99eca448",
   "metadata": {},
   "outputs": [],
   "source": [
    "class calc2(calc1):\n",
    "    def div(self,a,b):\n",
    "        print(a/b)\n",
    "        "
   ]
  },
  {
   "cell_type": "code",
   "execution_count": 12,
   "id": "bc21547d",
   "metadata": {},
   "outputs": [
    {
     "name": "stdout",
     "output_type": "stream",
     "text": [
      "0.1\n",
      "9\n",
      "0\n",
      "9\n"
     ]
    }
   ],
   "source": [
    "a = calc2()\n",
    "a.div(3,30)\n",
    "a.add(5,4)\n",
    "a.sub(5,5)\n",
    "a.multi(3,3)"
   ]
  },
  {
   "cell_type": "code",
   "execution_count": 16,
   "id": "6bb524fa",
   "metadata": {},
   "outputs": [],
   "source": [
    "class calc3(calc2):\n",
    "    def quotient(self,a,b):\n",
    "        print(a**b)"
   ]
  },
  {
   "cell_type": "code",
   "execution_count": 17,
   "id": "1218d7cd",
   "metadata": {},
   "outputs": [
    {
     "name": "stdout",
     "output_type": "stream",
     "text": [
      "9\n",
      "0\n",
      "9\n",
      "3125\n"
     ]
    }
   ],
   "source": [
    "a =calc3()\n",
    "a.add(5,4)\n",
    "a.sub(5,5)\n",
    "a.multi(3,3)\n",
    "a.quotient(5,5)"
   ]
  },
  {
   "cell_type": "code",
   "execution_count": 18,
   "id": "7ad044af",
   "metadata": {},
   "outputs": [],
   "source": [
    "#abstraction\n"
   ]
  },
  {
   "cell_type": "code",
   "execution_count": 5,
   "id": "672eb48a",
   "metadata": {},
   "outputs": [],
   "source": [
    "from abc import ABC , abstractmethod\n",
    "class calc(ABC):\n",
    "    \n",
    "    @abstractmethod\n",
    "    def add(self):\n",
    "        pass\n",
    "    @abstractmethod\n",
    "    def sub(self):\n",
    "        pass\n"
   ]
  },
  {
   "cell_type": "code",
   "execution_count": 4,
   "id": "485b6135",
   "metadata": {},
   "outputs": [
    {
     "ename": "NameError",
     "evalue": "name 'ABC' is not defined",
     "output_type": "error",
     "traceback": [
      "\u001b[1;31m---------------------------------------------------------------------------\u001b[0m",
      "\u001b[1;31mNameError\u001b[0m                                 Traceback (most recent call last)",
      "\u001b[1;32m~\\AppData\\Local\\Temp\\ipykernel_5836\\303018895.py\u001b[0m in \u001b[0;36m<module>\u001b[1;34m\u001b[0m\n\u001b[1;32m----> 1\u001b[1;33m \u001b[1;32mclass\u001b[0m \u001b[0mcalc\u001b[0m\u001b[1;33m(\u001b[0m\u001b[0mABC\u001b[0m\u001b[1;33m)\u001b[0m\u001b[1;33m:\u001b[0m\u001b[1;33m\u001b[0m\u001b[1;33m\u001b[0m\u001b[0m\n\u001b[0m\u001b[0;32m      2\u001b[0m \u001b[1;33m\u001b[0m\u001b[0m\n\u001b[0;32m      3\u001b[0m     \u001b[1;33m@\u001b[0m\u001b[0mabstractmethod\u001b[0m\u001b[1;33m\u001b[0m\u001b[1;33m\u001b[0m\u001b[0m\n\u001b[0;32m      4\u001b[0m     \u001b[1;32mdef\u001b[0m \u001b[0madd\u001b[0m\u001b[1;33m(\u001b[0m\u001b[0mself\u001b[0m\u001b[1;33m)\u001b[0m\u001b[1;33m:\u001b[0m\u001b[1;33m\u001b[0m\u001b[1;33m\u001b[0m\u001b[0m\n\u001b[0;32m      5\u001b[0m         \u001b[1;32mpass\u001b[0m\u001b[1;33m\u001b[0m\u001b[1;33m\u001b[0m\u001b[0m\n",
      "\u001b[1;31mNameError\u001b[0m: name 'ABC' is not defined"
     ]
    }
   ],
   "source": []
  },
  {
   "cell_type": "code",
   "execution_count": null,
   "id": "92305c07",
   "metadata": {},
   "outputs": [],
   "source": [
    "class calc1(calc):\n",
    "    \n",
    "    def add(self,a,b):\n",
    "        print(a+b)\n",
    "    #def sub(self,a,b):\n",
    "        print(a-b)\n",
    "    def mul(self,a,b):\n",
    "        print(a*b)\n",
    "a = calc1()"
   ]
  },
  {
   "cell_type": "code",
   "execution_count": 29,
   "id": "6972505d",
   "metadata": {},
   "outputs": [
    {
     "name": "stdout",
     "output_type": "stream",
     "text": [
      "9\n",
      "1\n",
      "-5\n"
     ]
    }
   ],
   "source": [
    "a.add(5,4)\n",
    "a.sub(3,8)"
   ]
  },
  {
   "cell_type": "code",
   "execution_count": 7,
   "id": "2ee96e3b",
   "metadata": {},
   "outputs": [
    {
     "name": "stdout",
     "output_type": "stream",
     "text": [
      "0\n",
      "1\n",
      "2\n"
     ]
    }
   ],
   "source": [
    "for i in range(5):    #continue break and pass control statement\n",
    "    if i == 3:\n",
    "        break\n",
    "    print(i)"
   ]
  },
  {
   "cell_type": "code",
   "execution_count": 24,
   "id": "bfbbbf77",
   "metadata": {},
   "outputs": [
    {
     "name": "stdout",
     "output_type": "stream",
     "text": [
      "0\n",
      "1\n",
      "2\n",
      "4\n",
      "6\n",
      "7\n",
      "8\n",
      "9\n"
     ]
    }
   ],
   "source": [
    "for i in range(10):    \n",
    "    if i in [3 , 5]:\n",
    "        continue\n",
    "    print(i)"
   ]
  },
  {
   "cell_type": "code",
   "execution_count": 17,
   "id": "81129452",
   "metadata": {},
   "outputs": [
    {
     "name": "stdout",
     "output_type": "stream",
     "text": [
      "0\n",
      "1\n",
      "2\n",
      "3\n",
      "4\n"
     ]
    }
   ],
   "source": [
    "for i in range(5):    #continue break and pass control statement\n",
    "    if i == 3:\n",
    "        pass\n",
    "    print(i)"
   ]
  },
  {
   "cell_type": "code",
   "execution_count": 25,
   "id": "b1c0dce9",
   "metadata": {},
   "outputs": [
    {
     "name": "stdout",
     "output_type": "stream",
     "text": [
      "0\n",
      "1\n",
      "2\n",
      "4\n",
      "5\n",
      "6\n",
      "7\n",
      "8\n",
      "9\n"
     ]
    }
   ],
   "source": [
    "for i in range(10):    \n",
    "    if i ==3:\n",
    "        continue\n",
    "    print(i)"
   ]
  },
  {
   "cell_type": "code",
   "execution_count": 30,
   "id": "f0aabe8e",
   "metadata": {},
   "outputs": [
    {
     "name": "stdout",
     "output_type": "stream",
     "text": [
      "(1, 2, 3, 4, 5, 6, 7, 8, 9, 0, 'test')\n"
     ]
    }
   ],
   "source": [
    "def test(*args): #this positional arguement\n",
    "    print(args)\n",
    "test(1,2,3,4,5,6,7,8,9,0,\"test\")"
   ]
  },
  {
   "cell_type": "code",
   "execution_count": 31,
   "id": "97a734af",
   "metadata": {},
   "outputs": [
    {
     "name": "stdout",
     "output_type": "stream",
     "text": [
      "{'a': 1, 'b': 2, 'c': 3}\n",
      "3\n"
     ]
    }
   ],
   "source": [
    "def myFun(**kwargs):#this is keyword arguement\n",
    "    print(kwargs)\n",
    "    print(kwargs.get(\"c\"))\n",
    "# Driver code\n",
    "myFun(a=1, b = 2 , c = 3)"
   ]
  },
  {
   "cell_type": "code",
   "execution_count": 34,
   "id": "174bbdf2",
   "metadata": {},
   "outputs": [
    {
     "data": {
      "text/plain": [
       "10"
      ]
     },
     "execution_count": 34,
     "metadata": {},
     "output_type": "execute_result"
    }
   ],
   "source": [
    "#inline function\n",
    "a = lambda x : x +5 # lambda is used for reduce the line in def\n",
    "a(5)"
   ]
  },
  {
   "cell_type": "code",
   "execution_count": 35,
   "id": "13e35504",
   "metadata": {},
   "outputs": [
    {
     "data": {
      "text/plain": [
       "20"
      ]
     },
     "execution_count": 35,
     "metadata": {},
     "output_type": "execute_result"
    }
   ],
   "source": [
    "a = lambda a,b : a*b\n",
    "a(5,4)"
   ]
  },
  {
   "cell_type": "code",
   "execution_count": 39,
   "id": "a601d04b",
   "metadata": {},
   "outputs": [
    {
     "name": "stdout",
     "output_type": "stream",
     "text": [
      "[0, 1, 2, 3, 4, 5, 6, 7, 8, 9]\n",
      "[0, 2, 4, 6, 8]\n"
     ]
    }
   ],
   "source": [
    "# list comprehension\n",
    "a = [x for x in range(10)]\n",
    "print(a)\n",
    "a = [x for x in range(10) if x % 2 == 0]\n",
    "print(a)"
   ]
  },
  {
   "cell_type": "code",
   "execution_count": 40,
   "id": "23e8901c",
   "metadata": {},
   "outputs": [
    {
     "name": "stdout",
     "output_type": "stream",
     "text": [
      "{0: 0, 1: 1, 2: 4, 3: 9, 4: 16, 5: 25, 6: 36, 7: 49, 8: 64, 9: 81}\n"
     ]
    }
   ],
   "source": [
    "a = {x : x**2 for x in range(10)}#dict comprehension\n",
    "print(a)"
   ]
  },
  {
   "cell_type": "code",
   "execution_count": 45,
   "id": "fed85d6f",
   "metadata": {},
   "outputs": [
    {
     "name": "stdout",
     "output_type": "stream",
     "text": [
      "{'one': 1, 'two': 2, 'three': 3}\n"
     ]
    }
   ],
   "source": [
    "a = [\"one\" , \"two\" , \"three\"] # list to dict\n",
    "b = [1,2,3]\n",
    "c = zip(a,b)\n",
    "print(dict(c))"
   ]
  },
  {
   "cell_type": "code",
   "execution_count": 46,
   "id": "7bb18d15",
   "metadata": {},
   "outputs": [
    {
     "name": "stdout",
     "output_type": "stream",
     "text": [
      "[[0, 1, 2, 3, 4], [0, 1, 2, 3, 4], [0, 1, 2, 3, 4], [0, 1, 2, 3, 4], [0, 1, 2, 3, 4]]\n"
     ]
    }
   ],
   "source": [
    "# Nested list comprehension\n",
    "matrix = [[j for j in range(5)] for i in range(5)]\n",
    "print(matrix)"
   ]
  },
  {
   "cell_type": "code",
   "execution_count": null,
   "id": "6f0a80be",
   "metadata": {},
   "outputs": [],
   "source": []
  },
  {
   "cell_type": "code",
   "execution_count": null,
   "id": "f8dde10f",
   "metadata": {},
   "outputs": [],
   "source": []
  }
 ],
 "metadata": {
  "kernelspec": {
   "display_name": "Python 3 (ipykernel)",
   "language": "python",
   "name": "python3"
  },
  "language_info": {
   "codemirror_mode": {
    "name": "ipython",
    "version": 3
   },
   "file_extension": ".py",
   "mimetype": "text/x-python",
   "name": "python",
   "nbconvert_exporter": "python",
   "pygments_lexer": "ipython3",
   "version": "3.9.13"
  }
 },
 "nbformat": 4,
 "nbformat_minor": 5
}
